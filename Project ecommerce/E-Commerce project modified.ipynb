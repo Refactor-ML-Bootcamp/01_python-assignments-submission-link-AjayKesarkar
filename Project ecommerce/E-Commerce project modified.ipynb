{
 "cells": [
  {
   "cell_type": "markdown",
   "id": "f437ca4b",
   "metadata": {},
   "source": [
    "# Project Name:- Spending on Ecommerce Website"
   ]
  },
  {
   "cell_type": "markdown",
   "id": "f6bd3d3e",
   "metadata": {},
   "source": [
    "# Problem Statement-\n",
    "Predict the yearly amount spent by customers based on data taken from customers about their presence on website and their membership of application."
   ]
  },
  {
   "cell_type": "markdown",
   "id": "8b1fa7b3",
   "metadata": {},
   "source": [
    "#### Steps Involved in Project\n",
    "1) Data Importing\n",
    "2) Exploratory Data Analysis\n",
    "3) Data Preprocessing\n",
    "4) Checking Multicollinearity\n",
    "5) Model building & Evaluation\n",
    "6) Checking prediction"
   ]
  },
  {
   "cell_type": "markdown",
   "id": "a0b47f57",
   "metadata": {},
   "source": [
    "#### Importing important Libraries"
   ]
  },
  {
   "cell_type": "code",
   "execution_count": 363,
   "id": "7598a8d4",
   "metadata": {},
   "outputs": [],
   "source": [
    "#Importing libraries\n",
    "import pandas as pd\n",
    "import matplotlib.pyplot as plt\n",
    "import seaborn as sns\n",
    "import numpy as np\n",
    "from sklearn.metrics import r2_score,mean_squared_error\n",
    "import math\n",
    "import statsmodels.api as sm\n",
    "from sklearn.preprocessing import StandardScaler\n",
    "from sklearn.linear_model import Lasso,Ridge"
   ]
  },
  {
   "cell_type": "code",
   "execution_count": 364,
   "id": "d092f6b3",
   "metadata": {},
   "outputs": [],
   "source": [
    "#Reading Dataset\n",
    "\n",
    "df = pd.read_csv('Ecommerce Customers (2).csv')"
   ]
  },
  {
   "cell_type": "code",
   "execution_count": 365,
   "id": "91f26f53",
   "metadata": {},
   "outputs": [
    {
     "data": {
      "text/html": [
       "<div>\n",
       "<style scoped>\n",
       "    .dataframe tbody tr th:only-of-type {\n",
       "        vertical-align: middle;\n",
       "    }\n",
       "\n",
       "    .dataframe tbody tr th {\n",
       "        vertical-align: top;\n",
       "    }\n",
       "\n",
       "    .dataframe thead th {\n",
       "        text-align: right;\n",
       "    }\n",
       "</style>\n",
       "<table border=\"1\" class=\"dataframe\">\n",
       "  <thead>\n",
       "    <tr style=\"text-align: right;\">\n",
       "      <th></th>\n",
       "      <th>Email</th>\n",
       "      <th>Address</th>\n",
       "      <th>Avatar</th>\n",
       "      <th>Avg. Session Length</th>\n",
       "      <th>Time on App</th>\n",
       "      <th>Time on Website</th>\n",
       "      <th>Length of Membership</th>\n",
       "      <th>Yearly Amount Spent</th>\n",
       "    </tr>\n",
       "  </thead>\n",
       "  <tbody>\n",
       "    <tr>\n",
       "      <th>0</th>\n",
       "      <td>mstephenson@fernandez.com</td>\n",
       "      <td>835 Frank Tunnel\\nWrightmouth, MI 82180-9605</td>\n",
       "      <td>Violet</td>\n",
       "      <td>34.497268</td>\n",
       "      <td>12.655651</td>\n",
       "      <td>39.577668</td>\n",
       "      <td>4.082621</td>\n",
       "      <td>587.951054</td>\n",
       "    </tr>\n",
       "    <tr>\n",
       "      <th>1</th>\n",
       "      <td>hduke@hotmail.com</td>\n",
       "      <td>4547 Archer Common\\nDiazchester, CA 06566-8576</td>\n",
       "      <td>DarkGreen</td>\n",
       "      <td>31.926272</td>\n",
       "      <td>11.109461</td>\n",
       "      <td>37.268959</td>\n",
       "      <td>2.664034</td>\n",
       "      <td>392.204933</td>\n",
       "    </tr>\n",
       "    <tr>\n",
       "      <th>2</th>\n",
       "      <td>pallen@yahoo.com</td>\n",
       "      <td>24645 Valerie Unions Suite 582\\nCobbborough, D...</td>\n",
       "      <td>Bisque</td>\n",
       "      <td>33.000915</td>\n",
       "      <td>11.330278</td>\n",
       "      <td>37.110597</td>\n",
       "      <td>4.104543</td>\n",
       "      <td>487.547505</td>\n",
       "    </tr>\n",
       "    <tr>\n",
       "      <th>3</th>\n",
       "      <td>riverarebecca@gmail.com</td>\n",
       "      <td>1414 David Throughway\\nPort Jason, OH 22070-1220</td>\n",
       "      <td>SaddleBrown</td>\n",
       "      <td>34.305557</td>\n",
       "      <td>13.717514</td>\n",
       "      <td>36.721283</td>\n",
       "      <td>3.120179</td>\n",
       "      <td>581.852344</td>\n",
       "    </tr>\n",
       "    <tr>\n",
       "      <th>4</th>\n",
       "      <td>mstephens@davidson-herman.com</td>\n",
       "      <td>14023 Rodriguez Passage\\nPort Jacobville, PR 3...</td>\n",
       "      <td>MediumAquaMarine</td>\n",
       "      <td>33.330673</td>\n",
       "      <td>12.795189</td>\n",
       "      <td>37.536653</td>\n",
       "      <td>4.446308</td>\n",
       "      <td>599.406092</td>\n",
       "    </tr>\n",
       "  </tbody>\n",
       "</table>\n",
       "</div>"
      ],
      "text/plain": [
       "                           Email  \\\n",
       "0      mstephenson@fernandez.com   \n",
       "1              hduke@hotmail.com   \n",
       "2               pallen@yahoo.com   \n",
       "3        riverarebecca@gmail.com   \n",
       "4  mstephens@davidson-herman.com   \n",
       "\n",
       "                                             Address            Avatar  \\\n",
       "0       835 Frank Tunnel\\nWrightmouth, MI 82180-9605            Violet   \n",
       "1     4547 Archer Common\\nDiazchester, CA 06566-8576         DarkGreen   \n",
       "2  24645 Valerie Unions Suite 582\\nCobbborough, D...            Bisque   \n",
       "3   1414 David Throughway\\nPort Jason, OH 22070-1220       SaddleBrown   \n",
       "4  14023 Rodriguez Passage\\nPort Jacobville, PR 3...  MediumAquaMarine   \n",
       "\n",
       "   Avg. Session Length  Time on App  Time on Website  Length of Membership  \\\n",
       "0            34.497268    12.655651        39.577668              4.082621   \n",
       "1            31.926272    11.109461        37.268959              2.664034   \n",
       "2            33.000915    11.330278        37.110597              4.104543   \n",
       "3            34.305557    13.717514        36.721283              3.120179   \n",
       "4            33.330673    12.795189        37.536653              4.446308   \n",
       "\n",
       "   Yearly Amount Spent  \n",
       "0           587.951054  \n",
       "1           392.204933  \n",
       "2           487.547505  \n",
       "3           581.852344  \n",
       "4           599.406092  "
      ]
     },
     "execution_count": 365,
     "metadata": {},
     "output_type": "execute_result"
    }
   ],
   "source": [
    "# Reading first 5 rows\n",
    "df.head()"
   ]
  },
  {
   "cell_type": "code",
   "execution_count": 366,
   "id": "1d4d0f8b",
   "metadata": {},
   "outputs": [
    {
     "data": {
      "text/plain": [
       "(500, 8)"
      ]
     },
     "execution_count": 366,
     "metadata": {},
     "output_type": "execute_result"
    }
   ],
   "source": [
    "#Checking shape\n",
    "df.shape"
   ]
  },
  {
   "cell_type": "code",
   "execution_count": 367,
   "id": "b0963a10",
   "metadata": {},
   "outputs": [
    {
     "name": "stdout",
     "output_type": "stream",
     "text": [
      "<class 'pandas.core.frame.DataFrame'>\n",
      "RangeIndex: 500 entries, 0 to 499\n",
      "Data columns (total 8 columns):\n",
      " #   Column                Non-Null Count  Dtype  \n",
      "---  ------                --------------  -----  \n",
      " 0   Email                 500 non-null    object \n",
      " 1   Address               500 non-null    object \n",
      " 2   Avatar                500 non-null    object \n",
      " 3   Avg. Session Length   500 non-null    float64\n",
      " 4   Time on App           500 non-null    float64\n",
      " 5   Time on Website       500 non-null    float64\n",
      " 6   Length of Membership  500 non-null    float64\n",
      " 7   Yearly Amount Spent   500 non-null    float64\n",
      "dtypes: float64(5), object(3)\n",
      "memory usage: 31.4+ KB\n"
     ]
    }
   ],
   "source": [
    "#checking datatype and non-null values\n",
    "df.info()"
   ]
  },
  {
   "cell_type": "code",
   "execution_count": 368,
   "id": "584bd78d",
   "metadata": {},
   "outputs": [
    {
     "data": {
      "text/plain": [
       "Email                   0\n",
       "Address                 0\n",
       "Avatar                  0\n",
       "Avg. Session Length     0\n",
       "Time on App             0\n",
       "Time on Website         0\n",
       "Length of Membership    0\n",
       "Yearly Amount Spent     0\n",
       "dtype: int64"
      ]
     },
     "execution_count": 368,
     "metadata": {},
     "output_type": "execute_result"
    }
   ],
   "source": [
    "#checking null values\n",
    "df.isnull().sum()"
   ]
  },
  {
   "cell_type": "code",
   "execution_count": 369,
   "id": "104dc4ba",
   "metadata": {},
   "outputs": [
    {
     "data": {
      "text/plain": [
       "Email                    object\n",
       "Address                  object\n",
       "Avatar                   object\n",
       "Avg. Session Length     float64\n",
       "Time on App             float64\n",
       "Time on Website         float64\n",
       "Length of Membership    float64\n",
       "Yearly Amount Spent     float64\n",
       "dtype: object"
      ]
     },
     "execution_count": 369,
     "metadata": {},
     "output_type": "execute_result"
    }
   ],
   "source": [
    "#checking datatype\n",
    "df.dtypes"
   ]
  },
  {
   "cell_type": "code",
   "execution_count": 370,
   "id": "c57336cd",
   "metadata": {},
   "outputs": [
    {
     "data": {
      "text/plain": [
       "SlateBlue               7\n",
       "Cyan                    7\n",
       "CadetBlue               7\n",
       "GreenYellow             7\n",
       "Teal                    7\n",
       "                       ..\n",
       "MediumPurple            1\n",
       "CornflowerBlue          1\n",
       "LightGoldenRodYellow    1\n",
       "PowderBlue              1\n",
       "LawnGreen               1\n",
       "Name: Avatar, Length: 138, dtype: int64"
      ]
     },
     "execution_count": 370,
     "metadata": {},
     "output_type": "execute_result"
    }
   ],
   "source": [
    "#checking unique values\n",
    "df['Avatar'].value_counts()"
   ]
  },
  {
   "cell_type": "code",
   "execution_count": 371,
   "id": "6973583a",
   "metadata": {},
   "outputs": [
    {
     "data": {
      "text/plain": [
       "Index(['Email', 'Address', 'Avatar', 'Avg. Session Length', 'Time on App',\n",
       "       'Time on Website', 'Length of Membership', 'Yearly Amount Spent'],\n",
       "      dtype='object')"
      ]
     },
     "execution_count": 371,
     "metadata": {},
     "output_type": "execute_result"
    }
   ],
   "source": [
    "#checking column names\n",
    "df.columns"
   ]
  },
  {
   "cell_type": "code",
   "execution_count": 372,
   "id": "75a4f015",
   "metadata": {},
   "outputs": [
    {
     "data": {
      "text/html": [
       "<style type=\"text/css\">\n",
       "#T_65dee_row0_col0, #T_65dee_row0_col1, #T_65dee_row0_col2, #T_65dee_row0_col3, #T_65dee_row7_col4 {\n",
       "  background-color: #00ff80;\n",
       "  color: #000000;\n",
       "}\n",
       "#T_65dee_row0_col4, #T_65dee_row1_col4, #T_65dee_row5_col4 {\n",
       "  background-color: #009cb1;\n",
       "  color: #f1f1f1;\n",
       "}\n",
       "#T_65dee_row1_col0, #T_65dee_row3_col2, #T_65dee_row4_col0, #T_65dee_row5_col0, #T_65dee_row6_col0 {\n",
       "  background-color: #0010f7;\n",
       "  color: #f1f1f1;\n",
       "}\n",
       "#T_65dee_row1_col1, #T_65dee_row4_col1, #T_65dee_row5_col1 {\n",
       "  background-color: #0005fc;\n",
       "  color: #f1f1f1;\n",
       "}\n",
       "#T_65dee_row1_col2, #T_65dee_row4_col2, #T_65dee_row5_col2, #T_65dee_row6_col2, #T_65dee_row7_col0 {\n",
       "  background-color: #0012f6;\n",
       "  color: #f1f1f1;\n",
       "}\n",
       "#T_65dee_row1_col3, #T_65dee_row4_col3, #T_65dee_row5_col3, #T_65dee_row6_col3 {\n",
       "  background-color: #0001fe;\n",
       "  color: #f1f1f1;\n",
       "}\n",
       "#T_65dee_row2_col0, #T_65dee_row2_col1, #T_65dee_row2_col2, #T_65dee_row2_col3, #T_65dee_row2_col4, #T_65dee_row3_col3 {\n",
       "  background-color: #0000ff;\n",
       "  color: #f1f1f1;\n",
       "}\n",
       "#T_65dee_row3_col0 {\n",
       "  background-color: #000ef8;\n",
       "  color: #f1f1f1;\n",
       "}\n",
       "#T_65dee_row3_col1, #T_65dee_row7_col3 {\n",
       "  background-color: #0003fe;\n",
       "  color: #f1f1f1;\n",
       "}\n",
       "#T_65dee_row3_col4 {\n",
       "  background-color: #0042de;\n",
       "  color: #f1f1f1;\n",
       "}\n",
       "#T_65dee_row4_col4 {\n",
       "  background-color: #0088bb;\n",
       "  color: #f1f1f1;\n",
       "}\n",
       "#T_65dee_row6_col1 {\n",
       "  background-color: #0006fc;\n",
       "  color: #f1f1f1;\n",
       "}\n",
       "#T_65dee_row6_col4 {\n",
       "  background-color: #00afa8;\n",
       "  color: #f1f1f1;\n",
       "}\n",
       "#T_65dee_row7_col1 {\n",
       "  background-color: #0007fc;\n",
       "  color: #f1f1f1;\n",
       "}\n",
       "#T_65dee_row7_col2 {\n",
       "  background-color: #0014f5;\n",
       "  color: #f1f1f1;\n",
       "}\n",
       "</style>\n",
       "<table id=\"T_65dee_\">\n",
       "  <thead>\n",
       "    <tr>\n",
       "      <th class=\"blank level0\" >&nbsp;</th>\n",
       "      <th class=\"col_heading level0 col0\" >Avg. Session Length</th>\n",
       "      <th class=\"col_heading level0 col1\" >Time on App</th>\n",
       "      <th class=\"col_heading level0 col2\" >Time on Website</th>\n",
       "      <th class=\"col_heading level0 col3\" >Length of Membership</th>\n",
       "      <th class=\"col_heading level0 col4\" >Yearly Amount Spent</th>\n",
       "    </tr>\n",
       "  </thead>\n",
       "  <tbody>\n",
       "    <tr>\n",
       "      <th id=\"T_65dee_level0_row0\" class=\"row_heading level0 row0\" >count</th>\n",
       "      <td id=\"T_65dee_row0_col0\" class=\"data row0 col0\" >500.000000</td>\n",
       "      <td id=\"T_65dee_row0_col1\" class=\"data row0 col1\" >500.000000</td>\n",
       "      <td id=\"T_65dee_row0_col2\" class=\"data row0 col2\" >500.000000</td>\n",
       "      <td id=\"T_65dee_row0_col3\" class=\"data row0 col3\" >500.000000</td>\n",
       "      <td id=\"T_65dee_row0_col4\" class=\"data row0 col4\" >500.000000</td>\n",
       "    </tr>\n",
       "    <tr>\n",
       "      <th id=\"T_65dee_level0_row1\" class=\"row_heading level0 row1\" >mean</th>\n",
       "      <td id=\"T_65dee_row1_col0\" class=\"data row1 col0\" >33.053194</td>\n",
       "      <td id=\"T_65dee_row1_col1\" class=\"data row1 col1\" >12.052488</td>\n",
       "      <td id=\"T_65dee_row1_col2\" class=\"data row1 col2\" >37.060445</td>\n",
       "      <td id=\"T_65dee_row1_col3\" class=\"data row1 col3\" >3.533462</td>\n",
       "      <td id=\"T_65dee_row1_col4\" class=\"data row1 col4\" >499.314038</td>\n",
       "    </tr>\n",
       "    <tr>\n",
       "      <th id=\"T_65dee_level0_row2\" class=\"row_heading level0 row2\" >std</th>\n",
       "      <td id=\"T_65dee_row2_col0\" class=\"data row2 col0\" >0.992563</td>\n",
       "      <td id=\"T_65dee_row2_col1\" class=\"data row2 col1\" >0.994216</td>\n",
       "      <td id=\"T_65dee_row2_col2\" class=\"data row2 col2\" >1.010489</td>\n",
       "      <td id=\"T_65dee_row2_col3\" class=\"data row2 col3\" >0.999278</td>\n",
       "      <td id=\"T_65dee_row2_col4\" class=\"data row2 col4\" >79.314782</td>\n",
       "    </tr>\n",
       "    <tr>\n",
       "      <th id=\"T_65dee_level0_row3\" class=\"row_heading level0 row3\" >min</th>\n",
       "      <td id=\"T_65dee_row3_col0\" class=\"data row3 col0\" >29.532429</td>\n",
       "      <td id=\"T_65dee_row3_col1\" class=\"data row3 col1\" >8.508152</td>\n",
       "      <td id=\"T_65dee_row3_col2\" class=\"data row3 col2\" >33.913847</td>\n",
       "      <td id=\"T_65dee_row3_col3\" class=\"data row3 col3\" >0.269901</td>\n",
       "      <td id=\"T_65dee_row3_col4\" class=\"data row3 col4\" >256.670582</td>\n",
       "    </tr>\n",
       "    <tr>\n",
       "      <th id=\"T_65dee_level0_row4\" class=\"row_heading level0 row4\" >25%</th>\n",
       "      <td id=\"T_65dee_row4_col0\" class=\"data row4 col0\" >32.341822</td>\n",
       "      <td id=\"T_65dee_row4_col1\" class=\"data row4 col1\" >11.388153</td>\n",
       "      <td id=\"T_65dee_row4_col2\" class=\"data row4 col2\" >36.349257</td>\n",
       "      <td id=\"T_65dee_row4_col3\" class=\"data row4 col3\" >2.930450</td>\n",
       "      <td id=\"T_65dee_row4_col4\" class=\"data row4 col4\" >445.038277</td>\n",
       "    </tr>\n",
       "    <tr>\n",
       "      <th id=\"T_65dee_level0_row5\" class=\"row_heading level0 row5\" >50%</th>\n",
       "      <td id=\"T_65dee_row5_col0\" class=\"data row5 col0\" >33.082008</td>\n",
       "      <td id=\"T_65dee_row5_col1\" class=\"data row5 col1\" >11.983231</td>\n",
       "      <td id=\"T_65dee_row5_col2\" class=\"data row5 col2\" >37.069367</td>\n",
       "      <td id=\"T_65dee_row5_col3\" class=\"data row5 col3\" >3.533975</td>\n",
       "      <td id=\"T_65dee_row5_col4\" class=\"data row5 col4\" >498.887875</td>\n",
       "    </tr>\n",
       "    <tr>\n",
       "      <th id=\"T_65dee_level0_row6\" class=\"row_heading level0 row6\" >75%</th>\n",
       "      <td id=\"T_65dee_row6_col0\" class=\"data row6 col0\" >33.711985</td>\n",
       "      <td id=\"T_65dee_row6_col1\" class=\"data row6 col1\" >12.753850</td>\n",
       "      <td id=\"T_65dee_row6_col2\" class=\"data row6 col2\" >37.716432</td>\n",
       "      <td id=\"T_65dee_row6_col3\" class=\"data row6 col3\" >4.126502</td>\n",
       "      <td id=\"T_65dee_row6_col4\" class=\"data row6 col4\" >549.313828</td>\n",
       "    </tr>\n",
       "    <tr>\n",
       "      <th id=\"T_65dee_level0_row7\" class=\"row_heading level0 row7\" >max</th>\n",
       "      <td id=\"T_65dee_row7_col0\" class=\"data row7 col0\" >36.139662</td>\n",
       "      <td id=\"T_65dee_row7_col1\" class=\"data row7 col1\" >15.126994</td>\n",
       "      <td id=\"T_65dee_row7_col2\" class=\"data row7 col2\" >40.005182</td>\n",
       "      <td id=\"T_65dee_row7_col3\" class=\"data row7 col3\" >6.922689</td>\n",
       "      <td id=\"T_65dee_row7_col4\" class=\"data row7 col4\" >765.518462</td>\n",
       "    </tr>\n",
       "  </tbody>\n",
       "</table>\n"
      ],
      "text/plain": [
       "<pandas.io.formats.style.Styler at 0x1f27e6d27f0>"
      ]
     },
     "execution_count": 372,
     "metadata": {},
     "output_type": "execute_result"
    }
   ],
   "source": [
    "#describe statistics of data\n",
    "df.describe().style.background_gradient(cmap='winter')"
   ]
  },
  {
   "cell_type": "code",
   "execution_count": 373,
   "id": "c456841c",
   "metadata": {},
   "outputs": [
    {
     "data": {
      "text/plain": [
       "Email                   500\n",
       "Address                 500\n",
       "Avatar                  138\n",
       "Avg. Session Length     500\n",
       "Time on App             500\n",
       "Time on Website         500\n",
       "Length of Membership    500\n",
       "Yearly Amount Spent     500\n",
       "dtype: int64"
      ]
     },
     "execution_count": 373,
     "metadata": {},
     "output_type": "execute_result"
    }
   ],
   "source": [
    "#checking unique values in each column\n",
    "df.nunique()"
   ]
  },
  {
   "cell_type": "markdown",
   "id": "021014cc",
   "metadata": {},
   "source": [
    "## EDA"
   ]
  },
  {
   "cell_type": "code",
   "execution_count": 374,
   "id": "faf1c2b1",
   "metadata": {},
   "outputs": [
    {
     "data": {
      "text/plain": [
       "<AxesSubplot:>"
      ]
     },
     "execution_count": 374,
     "metadata": {},
     "output_type": "execute_result"
    },
    {
     "data": {
      "image/png": "[encoded data removed]",
      "text/plain": [
       "<Figure size 432x288 with 2 Axes>"
      ]
     },
     "metadata": {
      "needs_background": "light"
     },
     "output_type": "display_data"
    }
   ],
   "source": [
    "# Looking for correlation between variables\n",
    "sns.heatmap(df.corr(),annot=True,cmap='coolwarm')"
   ]
  },
  {
   "cell_type": "markdown",
   "id": "abba10a5",
   "metadata": {},
   "source": [
    "#### Checking outliers using boxplots"
   ]
  },
  {
   "cell_type": "code",
   "execution_count": 375,
   "id": "3a276a2a",
   "metadata": {},
   "outputs": [
    {
     "data": {
      "image/png": "[encoded data removed]",
      "text/plain": [
       "<Figure size 432x288 with 1 Axes>"
      ]
     },
     "metadata": {
      "needs_background": "light"
     },
     "output_type": "display_data"
    }
   ],
   "source": [
    "#Boxplots\n",
    "# plotting boxplot using 'Avg. Session Length'\n",
    "plt.boxplot(df['Avg. Session Length'])\n",
    "plt.title('Avg. Session Length')\n",
    "plt.show()"
   ]
  },
  {
   "cell_type": "code",
   "execution_count": 376,
   "id": "a4afccdd",
   "metadata": {},
   "outputs": [
    {
     "data": {
      "image/png": "[encoded data removed]",
      "text/plain": [
       "<Figure size 432x288 with 1 Axes>"
      ]
     },
     "metadata": {
      "needs_background": "light"
     },
     "output_type": "display_data"
    }
   ],
   "source": [
    "# plotting boxplot using 'Time on App'\n",
    "plt.boxplot(df['Time on App'])\n",
    "plt.title('Time on App')\n",
    "plt.show()"
   ]
  },
  {
   "cell_type": "code",
   "execution_count": 377,
   "id": "c4fadbbb",
   "metadata": {},
   "outputs": [
    {
     "data": {
      "image/png": "[encoded data removed]",
      "text/plain": [
       "<Figure size 432x288 with 1 Axes>"
      ]
     },
     "metadata": {
      "needs_background": "light"
     },
     "output_type": "display_data"
    }
   ],
   "source": [
    "# plotting boxplot using 'Time on Website'\n",
    "plt.boxplot(df['Time on Website'])\n",
    "plt.title('Time on Website')\n",
    "plt.show()"
   ]
  },
  {
   "cell_type": "code",
   "execution_count": 378,
   "id": "107896fc",
   "metadata": {},
   "outputs": [
    {
     "data": {
      "image/png": "[encoded data removed]",
      "text/plain": [
       "<Figure size 432x288 with 1 Axes>"
      ]
     },
     "metadata": {
      "needs_background": "light"
     },
     "output_type": "display_data"
    }
   ],
   "source": [
    "# plotting boxplot using 'Length of Membership'\n",
    "plt.boxplot(df['Length of Membership'])\n",
    "plt.title('Length of Membership')\n",
    "plt.show()"
   ]
  },
  {
   "cell_type": "markdown",
   "id": "067a9293",
   "metadata": {},
   "source": [
    "Conclusion - There are no extreme outliers and only few are present, so we are not removing it"
   ]
  },
  {
   "cell_type": "markdown",
   "id": "4d837ab3",
   "metadata": {},
   "source": [
    "#### Checking relationships numeric between features using scatterplots"
   ]
  },
  {
   "cell_type": "code",
   "execution_count": 379,
   "id": "bad65160",
   "metadata": {
    "scrolled": true
   },
   "outputs": [
    {
     "data": {
      "image/png": "[encoded data removed]",
      "text/plain": [
       "<Figure size 432x288 with 1 Axes>"
      ]
     },
     "metadata": {
      "needs_background": "light"
     },
     "output_type": "display_data"
    }
   ],
   "source": [
    "# Scatterplots\n",
    "# plotting scatterplot 'Yearly Amount Spent' vs 'Avg. Session Length'\n",
    "sns.scatterplot(data=df,x='Yearly Amount Spent',y='Avg. Session Length')\n",
    "plt.show()"
   ]
  },
  {
   "cell_type": "code",
   "execution_count": 380,
   "id": "4babb017",
   "metadata": {},
   "outputs": [
    {
     "data": {
      "text/plain": [
       "Index(['Email', 'Address', 'Avatar', 'Avg. Session Length', 'Time on App',\n",
       "       'Time on Website', 'Length of Membership', 'Yearly Amount Spent'],\n",
       "      dtype='object')"
      ]
     },
     "execution_count": 380,
     "metadata": {},
     "output_type": "execute_result"
    }
   ],
   "source": [
    "df.columns"
   ]
  },
  {
   "cell_type": "code",
   "execution_count": 381,
   "id": "5bd35362",
   "metadata": {},
   "outputs": [
    {
     "data": {
      "image/png": "[encoded data removed]",
      "text/plain": [
       "<Figure size 432x288 with 1 Axes>"
      ]
     },
     "metadata": {
      "needs_background": "light"
     },
     "output_type": "display_data"
    }
   ],
   "source": [
    "# plotting scatterplot 'Yearly Amount Spent' vs 'Avg. 'Time on App'\n",
    "sns.scatterplot(data=df,x='Yearly Amount Spent',y='Time on App')\n",
    "plt.show()"
   ]
  },
  {
   "cell_type": "code",
   "execution_count": 382,
   "id": "d790567d",
   "metadata": {},
   "outputs": [
    {
     "data": {
      "image/png": "[encoded data removed]",
      "text/plain": [
       "<Figure size 432x288 with 1 Axes>"
      ]
     },
     "metadata": {
      "needs_background": "light"
     },
     "output_type": "display_data"
    }
   ],
   "source": [
    "# plotting scatterplot 'Yearly Amount Spent' vs 'Avg. 'Time on Website'\n",
    "sns.scatterplot(data=df,x='Yearly Amount Spent',y='Time on Website')\n",
    "plt.show()"
   ]
  },
  {
   "cell_type": "code",
   "execution_count": 383,
   "id": "d3f1a27c",
   "metadata": {},
   "outputs": [
    {
     "data": {
      "image/png": "[encoded data removed]",
      "text/plain": [
       "<Figure size 432x288 with 1 Axes>"
      ]
     },
     "metadata": {
      "needs_background": "light"
     },
     "output_type": "display_data"
    }
   ],
   "source": [
    "# plotting scatterplot 'Yearly Amount Spent' vs 'Avg. 'Length of Membership'\n",
    "sns.scatterplot(data=df,x='Yearly Amount Spent',y='Length of Membership')\n",
    "plt.show()"
   ]
  },
  {
   "cell_type": "markdown",
   "id": "98e0ce64",
   "metadata": {},
   "source": [
    "### Preprocessing of Data"
   ]
  },
  {
   "cell_type": "code",
   "execution_count": 384,
   "id": "7bf54283",
   "metadata": {},
   "outputs": [],
   "source": [
    "# seperating dependent and independent features\n",
    "\n",
    "X = df.iloc[:,3:-1]\n",
    "\n",
    "y = df.iloc[:,-1]"
   ]
  },
  {
   "cell_type": "code",
   "execution_count": 385,
   "id": "5a3cd016",
   "metadata": {},
   "outputs": [
    {
     "data": {
      "text/html": [
       "<div>\n",
       "<style scoped>\n",
       "    .dataframe tbody tr th:only-of-type {\n",
       "        vertical-align: middle;\n",
       "    }\n",
       "\n",
       "    .dataframe tbody tr th {\n",
       "        vertical-align: top;\n",
       "    }\n",
       "\n",
       "    .dataframe thead th {\n",
       "        text-align: right;\n",
       "    }\n",
       "</style>\n",
       "<table border=\"1\" class=\"dataframe\">\n",
       "  <thead>\n",
       "    <tr style=\"text-align: right;\">\n",
       "      <th></th>\n",
       "      <th>Avg. Session Length</th>\n",
       "      <th>Time on App</th>\n",
       "      <th>Time on Website</th>\n",
       "      <th>Length of Membership</th>\n",
       "    </tr>\n",
       "  </thead>\n",
       "  <tbody>\n",
       "    <tr>\n",
       "      <th>0</th>\n",
       "      <td>34.497268</td>\n",
       "      <td>12.655651</td>\n",
       "      <td>39.577668</td>\n",
       "      <td>4.082621</td>\n",
       "    </tr>\n",
       "    <tr>\n",
       "      <th>1</th>\n",
       "      <td>31.926272</td>\n",
       "      <td>11.109461</td>\n",
       "      <td>37.268959</td>\n",
       "      <td>2.664034</td>\n",
       "    </tr>\n",
       "    <tr>\n",
       "      <th>2</th>\n",
       "      <td>33.000915</td>\n",
       "      <td>11.330278</td>\n",
       "      <td>37.110597</td>\n",
       "      <td>4.104543</td>\n",
       "    </tr>\n",
       "    <tr>\n",
       "      <th>3</th>\n",
       "      <td>34.305557</td>\n",
       "      <td>13.717514</td>\n",
       "      <td>36.721283</td>\n",
       "      <td>3.120179</td>\n",
       "    </tr>\n",
       "    <tr>\n",
       "      <th>4</th>\n",
       "      <td>33.330673</td>\n",
       "      <td>12.795189</td>\n",
       "      <td>37.536653</td>\n",
       "      <td>4.446308</td>\n",
       "    </tr>\n",
       "  </tbody>\n",
       "</table>\n",
       "</div>"
      ],
      "text/plain": [
       "   Avg. Session Length  Time on App  Time on Website  Length of Membership\n",
       "0            34.497268    12.655651        39.577668              4.082621\n",
       "1            31.926272    11.109461        37.268959              2.664034\n",
       "2            33.000915    11.330278        37.110597              4.104543\n",
       "3            34.305557    13.717514        36.721283              3.120179\n",
       "4            33.330673    12.795189        37.536653              4.446308"
      ]
     },
     "execution_count": 385,
     "metadata": {},
     "output_type": "execute_result"
    }
   ],
   "source": [
    "#Checking first five rows\n",
    "X.head()"
   ]
  },
  {
   "cell_type": "code",
   "execution_count": 386,
   "id": "ab3a0766",
   "metadata": {},
   "outputs": [
    {
     "data": {
      "text/plain": [
       "0    587.951054\n",
       "1    392.204933\n",
       "2    487.547505\n",
       "3    581.852344\n",
       "4    599.406092\n",
       "Name: Yearly Amount Spent, dtype: float64"
      ]
     },
     "execution_count": 386,
     "metadata": {},
     "output_type": "execute_result"
    }
   ],
   "source": [
    "y.head()"
   ]
  },
  {
   "cell_type": "markdown",
   "id": "1208b2cd",
   "metadata": {},
   "source": [
    "Yearly amount spent is highly correlated with Length of Membership"
   ]
  },
  {
   "cell_type": "markdown",
   "id": "3cebb74d",
   "metadata": {},
   "source": [
    "#### Scaling the features using standardisation method"
   ]
  },
  {
   "cell_type": "code",
   "execution_count": 387,
   "id": "40cc6279",
   "metadata": {},
   "outputs": [],
   "source": [
    "#create scaler instance\n",
    "scaler = StandardScaler()"
   ]
  },
  {
   "cell_type": "code",
   "execution_count": 388,
   "id": "3d80a732",
   "metadata": {},
   "outputs": [],
   "source": [
    "# # Create new scaled data dataframe\n",
    "X = pd.DataFrame(scaler.fit_transform(X),columns=X.columns,index=X.index)\n",
    "X.head()"
   ]
  },
  {
   "cell_type": "markdown",
   "id": "7e7181a9",
   "metadata": {},
   "source": [
    "#### Splitting data into train and test set"
   ]
  },
  {
   "cell_type": "code",
   "execution_count": 389,
   "id": "35ed597b",
   "metadata": {},
   "outputs": [],
   "source": [
    "from sklearn.model_selection import train_test_split"
   ]
  },
  {
   "cell_type": "code",
   "execution_count": 390,
   "id": "57729192",
   "metadata": {},
   "outputs": [],
   "source": [
    "X_train, X_test, y_train, y_test = train_test_split(X, y, test_size=0.2, random_state=42)"
   ]
  },
  {
   "cell_type": "code",
   "execution_count": 391,
   "id": "479c6bcd",
   "metadata": {},
   "outputs": [
    {
     "name": "stdout",
     "output_type": "stream",
     "text": [
      "(400, 4)\n",
      "(100, 4)\n",
      "(400,)\n",
      "(100,)\n"
     ]
    }
   ],
   "source": [
    "print(X_train.shape)\n",
    "print(X_test.shape)\n",
    "print(y_train.shape)\n",
    "print(y_test.shape)"
   ]
  },
  {
   "cell_type": "markdown",
   "id": "e0ef4c0e",
   "metadata": {},
   "source": [
    "## modelling"
   ]
  },
  {
   "cell_type": "markdown",
   "id": "f770c31c",
   "metadata": {},
   "source": [
    "#### LinearRegression"
   ]
  },
  {
   "cell_type": "code",
   "execution_count": 392,
   "id": "21423207",
   "metadata": {
    "scrolled": true
   },
   "outputs": [
    {
     "name": "stdout",
     "output_type": "stream",
     "text": [
      "R2 score is :,0.9778130629184127\n",
      "****************************************************************************************************\n",
      "MSE is 109.86374118393988\n",
      "****************************************************************************************************\n",
      "RMSE is 10.48159058463647\n"
     ]
    }
   ],
   "source": [
    "from sklearn.linear_model import LinearRegression\n",
    "\n",
    "linear_regressor = LinearRegression()\n",
    "\n",
    "linear_regressor.fit(X_train,y_train)\n",
    "\n",
    "predictions = linear_regressor.predict(X_test)\n",
    "\n",
    "print(f'R2 score is :,{r2_score(y_test,predictions)}')\n",
    "print('*'*100)\n",
    "# Mean squared error\n",
    "print(f'MSE is {mean_squared_error(y_test,predictions)}')\n",
    "print('*'*100)\n",
    "# Root Mean squared error\n",
    "print(f'RMSE is {np.sqrt(mean_squared_error(y_test,predictions))}')"
   ]
  },
  {
   "cell_type": "code",
   "execution_count": 336,
   "id": "69d9c94b",
   "metadata": {},
   "outputs": [
    {
     "name": "stdout",
     "output_type": "stream",
     "text": [
      "361    401.033135\n",
      "73     534.777188\n",
      "374    418.602742\n",
      "155    503.978379\n",
      "104    410.069611\n",
      "Name: Yearly Amount Spent, dtype: float64\n",
      "\n",
      "\n",
      "[402.86230051 542.53325708 426.62011918 501.91386363 409.6666551 ]\n"
     ]
    }
   ],
   "source": [
    "print(y_test.head())\n",
    "print('\\n')\n",
    "print(predictions[:5])"
   ]
  },
  {
   "cell_type": "code",
   "execution_count": 337,
   "id": "ba37c9b6",
   "metadata": {},
   "outputs": [
    {
     "data": {
      "text/plain": [
       "Text(0.5, 1.0, 'Residual errors')"
      ]
     },
     "execution_count": 337,
     "metadata": {},
     "output_type": "execute_result"
    },
    {
     "data": {
      "image/png": "[encoded data removed]",
      "text/plain": [
       "<Figure size 864x432 with 1 Axes>"
      ]
     },
     "metadata": {
      "needs_background": "light"
     },
     "output_type": "display_data"
    }
   ],
   "source": [
    "# Plotting residual errors\n",
    "plt.figure(figsize=(12,6))\n",
    "plt.scatter(linear_regressor.predict(X_train), linear_regressor.predict(X_train) - y_train, color='red',label='Train Data')\n",
    "plt.scatter(linear_regressor.predict(X_test), linear_regressor.predict(X_test) - y_test, color='blue',label='Test Data')\n",
    "plt.hlines(xmin=0,xmax=900,y=0,linewidth=4)\n",
    "plt.legend(loc=4)\n",
    "plt.title('Residual errors')"
   ]
  },
  {
   "cell_type": "markdown",
   "id": "d233aad3",
   "metadata": {},
   "source": [
    "### Ridge and lasso"
   ]
  },
  {
   "cell_type": "code",
   "execution_count": 338,
   "id": "f5b11372",
   "metadata": {},
   "outputs": [
    {
     "name": "stdout",
     "output_type": "stream",
     "text": [
      "Lasso model test score 0.977670404669426\n",
      "Ridge model test score 0.9778954738144373\n"
     ]
    }
   ],
   "source": [
    "lasso = Lasso()\n",
    "ridge = Ridge()\n",
    "lasso.fit(X_train,y_train)\n",
    "ridge.fit(X_train,y_train)\n",
    "lasso_pred = lasso.predict(X_test)\n",
    "ridge_pred = ridge.predict(X_test)\n",
    "print('Lasso model test score',lasso.score(X_test,y_test))\n",
    "print('Ridge model test score',ridge.score(X_test,y_test))"
   ]
  },
  {
   "cell_type": "code",
   "execution_count": 339,
   "id": "0a0296eb",
   "metadata": {},
   "outputs": [
    {
     "name": "stdout",
     "output_type": "stream",
     "text": [
      "                                 OLS Regression Results                                 \n",
      "========================================================================================\n",
      "Dep. Variable:     Yearly Amount Spent   R-squared (uncentered):                   0.024\n",
      "Model:                             OLS   Adj. R-squared (uncentered):              0.016\n",
      "Method:                  Least Squares   F-statistic:                              3.072\n",
      "Date:                 Sun, 15 Jan 2023   Prob (F-statistic):                      0.0162\n",
      "Time:                         20:20:19   Log-Likelihood:                         -3816.2\n",
      "No. Observations:                  500   AIC:                                      7640.\n",
      "Df Residuals:                      496   BIC:                                      7657.\n",
      "Df Model:                            4                                                  \n",
      "Covariance Type:             nonrobust                                                  \n",
      "========================================================================================\n",
      "                           coef    std err          t      P>|t|      [0.025      0.975]\n",
      "----------------------------------------------------------------------------------------\n",
      "Avg. Session Length     25.5173     22.485      1.135      0.257     -18.660      69.695\n",
      "Time on App             38.4467     22.521      1.707      0.088      -5.802      82.696\n",
      "Time on Website          0.4409     22.539      0.020      0.984     -43.843      44.725\n",
      "Length of Membership    61.4713     22.502      2.732      0.007      17.260     105.682\n",
      "==============================================================================\n",
      "Omnibus:                        0.337   Durbin-Watson:                   0.001\n",
      "Prob(Omnibus):                  0.845   Jarque-Bera (JB):                0.198\n",
      "Skew:                          -0.026   Prob(JB):                        0.906\n",
      "Kurtosis:                       3.083   Cond. No.                         1.12\n",
      "==============================================================================\n",
      "\n",
      "Notes:\n",
      "[1] R² is computed without centering (uncentered) since the model does not contain a constant.\n",
      "[2] Standard Errors assume that the covariance matrix of the errors is correctly specified.\n",
      "Training score 0.9854240629700333\n",
      "Test score 0.9778130629184126\n"
     ]
    }
   ],
   "source": [
    "model = sm.OLS(y,X).fit()\n",
    "print(model.summary())\n",
    "print('Training score',linear_regressor.score(X_train,y_train))\n",
    "print('Test score',linear_regressor.score(X_test,y_test))"
   ]
  },
  {
   "cell_type": "markdown",
   "id": "f78cec8a",
   "metadata": {},
   "source": [
    "## Random Forest Regressor"
   ]
  },
  {
   "cell_type": "code",
   "execution_count": 340,
   "id": "b50622af",
   "metadata": {},
   "outputs": [
    {
     "name": "stdout",
     "output_type": "stream",
     "text": [
      "R2 score is :,0.9313001584486228\n",
      "****************************************************************************************************\n",
      "MSE is 340.18312594584654\n",
      "****************************************************************************************************\n",
      "RMSE is 18.44405394553612\n"
     ]
    }
   ],
   "source": [
    "from sklearn.ensemble import RandomForestRegressor\n",
    "\n",
    "random_forest = RandomForestRegressor()\n",
    "\n",
    "random_forest.fit(X_train,y_train)\n",
    "\n",
    "predictions = random_forest.predict(X_test)\n",
    "\n",
    "print(f'R2 score is :,{r2_score(y_test,predictions)}')\n",
    "print('*'*100)\n",
    "# Mean squared error\n",
    "print(f'MSE is {mean_squared_error(y_test,predictions)}')\n",
    "print('*'*100)\n",
    "# Root Mean squared error\n",
    "print(f'RMSE is {np.sqrt(mean_squared_error(y_test,predictions))}')"
   ]
  },
  {
   "cell_type": "markdown",
   "id": "cffa892e",
   "metadata": {},
   "source": [
    "## KNeighbors Regressor"
   ]
  },
  {
   "cell_type": "code",
   "execution_count": 341,
   "id": "4f9c845a",
   "metadata": {},
   "outputs": [
    {
     "name": "stdout",
     "output_type": "stream",
     "text": [
      "R2 score is :,0.907919572425672\n",
      "****************************************************************************************************\n",
      "MSE is 455.95749543671315\n",
      "****************************************************************************************************\n",
      "RMSE is 21.353161251597225\n"
     ]
    }
   ],
   "source": [
    "from sklearn.neighbors import KNeighborsRegressor\n",
    "\n",
    "knn = KNeighborsRegressor()\n",
    "\n",
    "knn.fit(X_train,y_train)\n",
    "\n",
    "predictions = knn.predict(X_test)\n",
    "\n",
    "print(f'R2 score is :,{r2_score(y_test,predictions)}')\n",
    "print('*'*100)\n",
    "# Mean squared error\n",
    "print(f'MSE is {mean_squared_error(y_test,predictions)}')\n",
    "print('*'*100)\n",
    "# Root Mean squared error\n",
    "print(f'RMSE is {np.sqrt(mean_squared_error(y_test,predictions))}')"
   ]
  },
  {
   "cell_type": "markdown",
   "id": "a0c5b48c",
   "metadata": {},
   "source": [
    "## Gradient Boosting Regressor"
   ]
  },
  {
   "cell_type": "code",
   "execution_count": 342,
   "id": "0b7d68ed",
   "metadata": {},
   "outputs": [
    {
     "name": "stdout",
     "output_type": "stream",
     "text": [
      "R2 score is :,0.9564243697798772\n",
      "****************************************************************************************************\n",
      "MSE is 215.7747931959312\n",
      "****************************************************************************************************\n",
      "RMSE is 14.689274767527879\n"
     ]
    }
   ],
   "source": [
    "from sklearn.ensemble import GradientBoostingRegressor\n",
    "\n",
    "GBR = GradientBoostingRegressor()\n",
    "\n",
    "GBR.fit(X_train,y_train)\n",
    "\n",
    "predictions = GBR.predict(X_test)\n",
    "\n",
    "print(f'R2 score is :,{r2_score(y_test,predictions)}')\n",
    "print('*'*100)\n",
    "# Mean squared error\n",
    "print(f'MSE is {mean_squared_error(y_test,predictions)}')\n",
    "print('*'*100)\n",
    "# Root Mean squared error\n",
    "print(f'RMSE is {np.sqrt(mean_squared_error(y_test,predictions))}')"
   ]
  },
  {
   "cell_type": "markdown",
   "id": "84d301c0",
   "metadata": {},
   "source": [
    "## DecisionTreeRegressor"
   ]
  },
  {
   "cell_type": "code",
   "execution_count": 343,
   "id": "49ec229b",
   "metadata": {},
   "outputs": [
    {
     "name": "stdout",
     "output_type": "stream",
     "text": [
      "R2 score is :,0.8552642221393297\n",
      "****************************************************************************************************\n",
      "MSE is 716.6926187453398\n",
      "****************************************************************************************************\n",
      "RMSE is 26.77111538104716\n"
     ]
    }
   ],
   "source": [
    "from sklearn.tree import DecisionTreeRegressor\n",
    "\n",
    "DTR = DecisionTreeRegressor()\n",
    "\n",
    "DTR.fit(X_train,y_train)\n",
    "\n",
    "predictions = DTR.predict(X_test)\n",
    "\n",
    "print(f'R2 score is :,{r2_score(y_test,predictions)}')\n",
    "print('*'*100)\n",
    "# Mean squared error\n",
    "print(f'MSE is {mean_squared_error(y_test,predictions)}')\n",
    "print('*'*100)\n",
    "# Root Mean squared error\n",
    "print(f'RMSE is {np.sqrt(mean_squared_error(y_test,predictions))}')"
   ]
  },
  {
   "cell_type": "code",
   "execution_count": null,
   "id": "3ae378b5",
   "metadata": {},
   "outputs": [],
   "source": []
  },
  {
   "cell_type": "code",
   "execution_count": 344,
   "id": "fd053a73",
   "metadata": {},
   "outputs": [
    {
     "name": "stdout",
     "output_type": "stream",
     "text": [
      "R2 score is :,0.8738944978646361\n",
      "****************************************************************************************************\n",
      "MSE is 624.4405073816174\n",
      "****************************************************************************************************\n",
      "RMSE is 24.988807642254912\n"
     ]
    }
   ],
   "source": [
    "from sklearn.ensemble import AdaBoostRegressor\n",
    "\n",
    "ADA = AdaBoostRegressor()\n",
    "\n",
    "ADA.fit(X_train,y_train)\n",
    "\n",
    "predictions = ADA.predict(X_test)\n",
    "\n",
    "print(f'R2 score is :,{r2_score(y_test,predictions)}')\n",
    "print('*'*100)\n",
    "# Mean squared error\n",
    "print(f'MSE is {mean_squared_error(y_test,predictions)}')\n",
    "print('*'*100)\n",
    "# Root Mean squared error\n",
    "print(f'RMSE is {np.sqrt(mean_squared_error(y_test,predictions))}')"
   ]
  },
  {
   "cell_type": "markdown",
   "id": "7bc34e54",
   "metadata": {},
   "source": [
    "## XGB Regressor"
   ]
  },
  {
   "cell_type": "code",
   "execution_count": 345,
   "id": "ba9423dd",
   "metadata": {},
   "outputs": [
    {
     "name": "stdout",
     "output_type": "stream",
     "text": [
      "R2 score is :,0.8708127444457134\n",
      "****************************************************************************************************\n",
      "MSE is 639.7005209095873\n",
      "****************************************************************************************************\n",
      "RMSE is 25.292301613526345\n"
     ]
    }
   ],
   "source": [
    "from xgboost import XGBRegressor\n",
    "\n",
    "XGB = AdaBoostRegressor()\n",
    "\n",
    "XGB.fit(X_train,y_train)\n",
    "\n",
    "predictions = XGB.predict(X_test)\n",
    "\n",
    "print(f'R2 score is :,{r2_score(y_test,predictions)}')\n",
    "print('*'*100)\n",
    "# Mean squared error\n",
    "print(f'MSE is {mean_squared_error(y_test,predictions)}')\n",
    "print('*'*100)\n",
    "# Root Mean squared error\n",
    "print(f'RMSE is {np.sqrt(mean_squared_error(y_test,predictions))}')"
   ]
  },
  {
   "cell_type": "code",
   "execution_count": 346,
   "id": "4cda4fa8",
   "metadata": {},
   "outputs": [],
   "source": [
    "# Helper function for comparing models metrics\n",
    "def compare_models(models,names,X_train,y_train,X_test,y_test):\n",
    "# the libraries we need\n",
    "    import sklearn.metrics as metrics\n",
    "    from sklearn.model_selection import train_test_split\n",
    "\n",
    "\n",
    "    # now, create a list with the objects \n",
    "    data = {'Metric':['rmse','MedAE','MAE','R-squared']}\n",
    "    df_train = pd.DataFrame(data)\n",
    "    df_test = pd.DataFrame(data)\n",
    "\n",
    "    def rmse(x,y):\n",
    "        return math.sqrt(((x-y)**2).mean())\n",
    "\n",
    "\n",
    "    for (model,name) in zip(models,names):\n",
    "        y_pred= model.predict(X_test) # then predict on the test set\n",
    "        res = [rmse(model.predict(X_train), y_train),rmse(model.predict(X_test), y_test),\n",
    "               metrics.median_absolute_error(model.predict(X_train), y_train),metrics.median_absolute_error(model.predict(X_test), y_test),\n",
    "               metrics.mean_absolute_error(model.predict(X_train), y_train),metrics.mean_absolute_error(model.predict(X_test), y_test),\n",
    "               metrics.r2_score(model.predict(X_train), y_train),metrics.r2_score(model.predict(X_test), y_test)]\n",
    "    # get metrics of each model, and add to dataframe \n",
    "        df_train[name] = [res[0], res[2], res[4], res[6]]\n",
    "        df_test[name] = [res[1], res[3], res[5], res[7]]\n",
    "    return df_train,df_test   "
   ]
  },
  {
   "cell_type": "code",
   "execution_count": 347,
   "id": "cb5899f8",
   "metadata": {},
   "outputs": [],
   "source": [
    "# list of models object\n",
    "models = [linear_regressor, random_forest, knn, GBR, DTR, ADA, XGB]\n",
    "\n",
    "# list of models name\n",
    "models_name = ['LGDM','XGB','AdaBo','DT','GB','RF']\n",
    "\n",
    "# use function for comparing models by passing list of models object, names, train and test data\n",
    "comp_model_train, comp_model_test = compare_models(models, numerical, X_train, y_train, X_test, y_test)"
   ]
  },
  {
   "cell_type": "code",
   "execution_count": 348,
   "id": "b1b4d03a",
   "metadata": {},
   "outputs": [
    {
     "data": {
      "text/html": [
       "<div>\n",
       "<style scoped>\n",
       "    .dataframe tbody tr th:only-of-type {\n",
       "        vertical-align: middle;\n",
       "    }\n",
       "\n",
       "    .dataframe tbody tr th {\n",
       "        vertical-align: top;\n",
       "    }\n",
       "\n",
       "    .dataframe thead th {\n",
       "        text-align: right;\n",
       "    }\n",
       "</style>\n",
       "<table border=\"1\" class=\"dataframe\">\n",
       "  <thead>\n",
       "    <tr style=\"text-align: right;\">\n",
       "      <th></th>\n",
       "      <th>Metric</th>\n",
       "      <th>Avg. Session Length</th>\n",
       "      <th>Time on App</th>\n",
       "      <th>Time on Website</th>\n",
       "      <th>Length of Membership</th>\n",
       "    </tr>\n",
       "  </thead>\n",
       "  <tbody>\n",
       "    <tr>\n",
       "      <th>0</th>\n",
       "      <td>rmse</td>\n",
       "      <td>9.788898</td>\n",
       "      <td>7.236610</td>\n",
       "      <td>19.269873</td>\n",
       "      <td>6.632980</td>\n",
       "    </tr>\n",
       "    <tr>\n",
       "      <th>1</th>\n",
       "      <td>MedAE</td>\n",
       "      <td>5.988784</td>\n",
       "      <td>3.756529</td>\n",
       "      <td>10.765195</td>\n",
       "      <td>4.337198</td>\n",
       "    </tr>\n",
       "    <tr>\n",
       "      <th>2</th>\n",
       "      <td>MAE</td>\n",
       "      <td>7.727001</td>\n",
       "      <td>5.156294</td>\n",
       "      <td>14.144070</td>\n",
       "      <td>5.241920</td>\n",
       "    </tr>\n",
       "    <tr>\n",
       "      <th>3</th>\n",
       "      <td>R-squared</td>\n",
       "      <td>0.985208</td>\n",
       "      <td>0.991209</td>\n",
       "      <td>0.921206</td>\n",
       "      <td>0.993178</td>\n",
       "    </tr>\n",
       "  </tbody>\n",
       "</table>\n",
       "</div>"
      ],
      "text/plain": [
       "      Metric  Avg. Session Length  Time on App  Time on Website  \\\n",
       "0       rmse             9.788898     7.236610        19.269873   \n",
       "1      MedAE             5.988784     3.756529        10.765195   \n",
       "2        MAE             7.727001     5.156294        14.144070   \n",
       "3  R-squared             0.985208     0.991209         0.921206   \n",
       "\n",
       "   Length of Membership  \n",
       "0              6.632980  \n",
       "1              4.337198  \n",
       "2              5.241920  \n",
       "3              0.993178  "
      ]
     },
     "execution_count": 348,
     "metadata": {},
     "output_type": "execute_result"
    }
   ],
   "source": [
    "# printing comparision of model on train and test\n",
    "comp_model_train"
   ]
  },
  {
   "cell_type": "code",
   "execution_count": 349,
   "id": "8470b121",
   "metadata": {},
   "outputs": [
    {
     "data": {
      "text/html": [
       "<div>\n",
       "<style scoped>\n",
       "    .dataframe tbody tr th:only-of-type {\n",
       "        vertical-align: middle;\n",
       "    }\n",
       "\n",
       "    .dataframe tbody tr th {\n",
       "        vertical-align: top;\n",
       "    }\n",
       "\n",
       "    .dataframe thead th {\n",
       "        text-align: right;\n",
       "    }\n",
       "</style>\n",
       "<table border=\"1\" class=\"dataframe\">\n",
       "  <thead>\n",
       "    <tr style=\"text-align: right;\">\n",
       "      <th></th>\n",
       "      <th>Metric</th>\n",
       "      <th>Avg. Session Length</th>\n",
       "      <th>Time on App</th>\n",
       "      <th>Time on Website</th>\n",
       "      <th>Length of Membership</th>\n",
       "    </tr>\n",
       "  </thead>\n",
       "  <tbody>\n",
       "    <tr>\n",
       "      <th>0</th>\n",
       "      <td>rmse</td>\n",
       "      <td>10.481591</td>\n",
       "      <td>18.444054</td>\n",
       "      <td>21.353161</td>\n",
       "      <td>14.689275</td>\n",
       "    </tr>\n",
       "    <tr>\n",
       "      <th>1</th>\n",
       "      <td>MedAE</td>\n",
       "      <td>7.324397</td>\n",
       "      <td>10.828009</td>\n",
       "      <td>12.908361</td>\n",
       "      <td>10.129862</td>\n",
       "    </tr>\n",
       "    <tr>\n",
       "      <th>2</th>\n",
       "      <td>MAE</td>\n",
       "      <td>8.558442</td>\n",
       "      <td>13.788712</td>\n",
       "      <td>16.365631</td>\n",
       "      <td>11.765485</td>\n",
       "    </tr>\n",
       "    <tr>\n",
       "      <th>3</th>\n",
       "      <td>R-squared</td>\n",
       "      <td>0.978263</td>\n",
       "      <td>0.919749</td>\n",
       "      <td>0.871123</td>\n",
       "      <td>0.953100</td>\n",
       "    </tr>\n",
       "  </tbody>\n",
       "</table>\n",
       "</div>"
      ],
      "text/plain": [
       "      Metric  Avg. Session Length  Time on App  Time on Website  \\\n",
       "0       rmse            10.481591    18.444054        21.353161   \n",
       "1      MedAE             7.324397    10.828009        12.908361   \n",
       "2        MAE             8.558442    13.788712        16.365631   \n",
       "3  R-squared             0.978263     0.919749         0.871123   \n",
       "\n",
       "   Length of Membership  \n",
       "0             14.689275  \n",
       "1             10.129862  \n",
       "2             11.765485  \n",
       "3              0.953100  "
      ]
     },
     "execution_count": 349,
     "metadata": {},
     "output_type": "execute_result"
    }
   ],
   "source": [
    "comp_model_test"
   ]
  },
  {
   "cell_type": "markdown",
   "id": "1b35dd1f",
   "metadata": {},
   "source": [
    "# Hyperparameter Tuning"
   ]
  },
  {
   "cell_type": "code",
   "execution_count": 350,
   "id": "fd2c437b",
   "metadata": {},
   "outputs": [],
   "source": [
    "from sklearn.model_selection import RandomizedSearchCV"
   ]
  },
  {
   "cell_type": "markdown",
   "id": "5958ece8",
   "metadata": {},
   "source": [
    "### RandomForest"
   ]
  },
  {
   "cell_type": "markdown",
   "id": "f43899fa",
   "metadata": {},
   "source": [
    "#### RandomizedCV on Random Forest Regressor"
   ]
  },
  {
   "cell_type": "code",
   "execution_count": 351,
   "id": "0c237d25",
   "metadata": {},
   "outputs": [
    {
     "name": "stdout",
     "output_type": "stream",
     "text": [
      "Fitting 5 folds for each of 100 candidates, totalling 500 fits\n"
     ]
    },
    {
     "name": "stderr",
     "output_type": "stream",
     "text": [
      "C:\\ProgramData\\Anaconda3\\lib\\site-packages\\sklearn\\ensemble\\_forest.py:416: FutureWarning: `max_features='auto'` has been deprecated in 1.1 and will be removed in 1.3. To keep the past behaviour, explicitly set `max_features=1.0` or remove this parameter as it is also the default value for RandomForestRegressors and ExtraTreesRegressors.\n",
      "  warn(\n"
     ]
    },
    {
     "name": "stdout",
     "output_type": "stream",
     "text": [
      "{'n_estimators': 100, 'min_samples_split': 2, 'min_samples_leaf': 2, 'max_features': 'auto', 'max_depth': 8, 'bootstrap': True}\n"
     ]
    }
   ],
   "source": [
    "rf_param_grid = {'n_estimators':[25,50,100],\n",
    "                'min_samples_split':[2,4,6],\n",
    "                'min_samples_leaf':[1,2,3],\n",
    "                'max_features':['auto','sqrt'],\n",
    "                'max_depth':[2,4,6,8],\n",
    "                'bootstrap':[True,False]}\n",
    "rf = RandomizedSearchCV(estimator=RandomForestRegressor(),param_distributions=rf_param_grid,n_iter=100,\n",
    "                        verbose=2,random_state=100,n_jobs=-1)\n",
    "rf.fit(X_train,y_train)\n",
    "\n",
    "print(rf.best_params_)"
   ]
  },
  {
   "cell_type": "markdown",
   "id": "f1307b04",
   "metadata": {},
   "source": [
    "#### Fitting best parameters in Random Forest Regressor"
   ]
  },
  {
   "cell_type": "code",
   "execution_count": 352,
   "id": "0d30b2ba",
   "metadata": {},
   "outputs": [
    {
     "name": "stderr",
     "output_type": "stream",
     "text": [
      "C:\\ProgramData\\Anaconda3\\lib\\site-packages\\sklearn\\ensemble\\_forest.py:416: FutureWarning: `max_features='auto'` has been deprecated in 1.1 and will be removed in 1.3. To keep the past behaviour, explicitly set `max_features=1.0` or remove this parameter as it is also the default value for RandomForestRegressors and ExtraTreesRegressors.\n",
      "  warn(\n"
     ]
    },
    {
     "name": "stdout",
     "output_type": "stream",
     "text": [
      "R2 score is :,0.8708127444457134\n",
      "****************************************************************************************************\n",
      "MSE is 639.7005209095873\n",
      "****************************************************************************************************\n",
      "RMSE is 25.292301613526345\n"
     ]
    }
   ],
   "source": [
    "rf = RandomForestRegressor(n_estimators=50,min_samples_split=2,min_samples_leaf=1,\n",
    "                          max_features='auto',max_depth=8,bootstrap=True)\n",
    "\n",
    "rf.fit(X_train,y_train)\n",
    "\n",
    "rf.predict(X_test)\n",
    "\n",
    "print(f'R2 score is :,{r2_score(y_test,predictions)}')\n",
    "print('*'*100)\n",
    "# Mean squared error\n",
    "print(f'MSE is {mean_squared_error(y_test,predictions)}')\n",
    "print('*'*100)\n",
    "# Root Mean squared error\n",
    "print(f'RMSE is {np.sqrt(mean_squared_error(y_test,predictions))}')"
   ]
  },
  {
   "cell_type": "markdown",
   "id": "06e88d1e",
   "metadata": {},
   "source": [
    "### KNeighbors"
   ]
  },
  {
   "cell_type": "markdown",
   "id": "8321c0b9",
   "metadata": {},
   "source": [
    "#### RandomizedCV on KNeighbors"
   ]
  },
  {
   "cell_type": "code",
   "execution_count": 353,
   "id": "8e39b197",
   "metadata": {},
   "outputs": [
    {
     "name": "stdout",
     "output_type": "stream",
     "text": [
      "Fitting 5 folds for each of 48 candidates, totalling 240 fits\n"
     ]
    },
    {
     "name": "stderr",
     "output_type": "stream",
     "text": [
      "C:\\ProgramData\\Anaconda3\\lib\\site-packages\\sklearn\\model_selection\\_search.py:306: UserWarning: The total space of parameters 48 is smaller than n_iter=100. Running 48 iterations. For exhaustive searches, use GridSearchCV.\n",
      "  warnings.warn(\n"
     ]
    },
    {
     "name": "stdout",
     "output_type": "stream",
     "text": [
      "{'p': 2, 'n_neighbors': 3, 'leaf_size': 2}\n"
     ]
    }
   ],
   "source": [
    "knn_param_grid = {'p':[1,2,3],\n",
    "                'n_neighbors':[3,5,10,15],\n",
    "                'leaf_size':[2,4,6,8]\n",
    "                 }\n",
    "knn = RandomizedSearchCV(estimator=KNeighborsRegressor(),param_distributions=knn_param_grid,n_iter=100,\n",
    "                        verbose=2,random_state=100,n_jobs=-1)\n",
    "knn.fit(X_train,y_train)\n",
    "\n",
    "print(knn.best_params_)"
   ]
  },
  {
   "cell_type": "markdown",
   "id": "24c8beae",
   "metadata": {},
   "source": [
    "#### Fitting best parameters in KNeighbors"
   ]
  },
  {
   "cell_type": "code",
   "execution_count": 354,
   "id": "f2401056",
   "metadata": {},
   "outputs": [
    {
     "name": "stdout",
     "output_type": "stream",
     "text": [
      "R2 score is :,0.907919572425672\n",
      "****************************************************************************************************\n",
      "MSE is 455.95749543671315\n",
      "****************************************************************************************************\n",
      "RMSE is 21.353161251597225\n"
     ]
    }
   ],
   "source": [
    "knn = KNeighborsRegressor(p=2,n_neighbors=5,leaf_size=2)\n",
    "\n",
    "knn.fit(X_train,y_train)\n",
    "\n",
    "predictions = knn.predict(X_test)\n",
    "\n",
    "print(f'R2 score is :,{r2_score(y_test,predictions)}')\n",
    "print('*'*100)\n",
    "# Mean squared error\n",
    "print(f'MSE is {mean_squared_error(y_test,predictions)}')\n",
    "print('*'*100)\n",
    "# Root Mean squared error\n",
    "print(f'RMSE is {np.sqrt(mean_squared_error(y_test,predictions))}')"
   ]
  },
  {
   "cell_type": "markdown",
   "id": "c3018b2a",
   "metadata": {},
   "source": [
    "### AdaBoostRegressor"
   ]
  },
  {
   "cell_type": "markdown",
   "id": "a8d48d13",
   "metadata": {},
   "source": [
    "#### RandomizedCV on AdaBoostRegressor"
   ]
  },
  {
   "cell_type": "code",
   "execution_count": 355,
   "id": "a5870e1e",
   "metadata": {},
   "outputs": [
    {
     "name": "stdout",
     "output_type": "stream",
     "text": [
      "Fitting 5 folds for each of 15 candidates, totalling 75 fits\n"
     ]
    },
    {
     "name": "stderr",
     "output_type": "stream",
     "text": [
      "C:\\ProgramData\\Anaconda3\\lib\\site-packages\\sklearn\\model_selection\\_search.py:306: UserWarning: The total space of parameters 15 is smaller than n_iter=100. Running 15 iterations. For exhaustive searches, use GridSearchCV.\n",
      "  warnings.warn(\n"
     ]
    },
    {
     "name": "stdout",
     "output_type": "stream",
     "text": [
      "{'n_estimators': 150, 'learning_rate': 0.5}\n"
     ]
    }
   ],
   "source": [
    "Ada_para_grid={\n",
    "    'n_estimators':[50,100,150],\n",
    "    'learning_rate':[0.5,0.25,0.1,0.05,0.01]\n",
    "}\n",
    "\n",
    "ADA = RandomizedSearchCV(estimator=AdaBoostRegressor(),param_distributions=Ada_para_grid,n_iter=100,\n",
    "                        verbose=2,random_state=100,n_jobs=-1)\n",
    "ADA.fit(X_train,y_train)\n",
    "\n",
    "print(ADA.best_params_)"
   ]
  },
  {
   "cell_type": "markdown",
   "id": "324ce5c7",
   "metadata": {},
   "source": [
    "#### Fitting best parameters in AdaBoostRegressor"
   ]
  },
  {
   "cell_type": "code",
   "execution_count": 356,
   "id": "ecef10ab",
   "metadata": {},
   "outputs": [
    {
     "name": "stdout",
     "output_type": "stream",
     "text": [
      "R2 score is :,0.8835614924201012\n",
      "****************************************************************************************************\n",
      "MSE is 576.5721520533123\n",
      "****************************************************************************************************\n",
      "RMSE is 24.011916875862124\n"
     ]
    }
   ],
   "source": [
    "ADA = AdaBoostRegressor(n_estimators=150, learning_rate=0.5)\n",
    "\n",
    "ADA.fit(X_train,y_train)\n",
    "\n",
    "predictions = ADA.predict(X_test)\n",
    "\n",
    "print(f'R2 score is :,{r2_score(y_test,predictions)}')\n",
    "print('*'*100)\n",
    "# Mean squared error\n",
    "print(f'MSE is {mean_squared_error(y_test,predictions)}')\n",
    "print('*'*100)\n",
    "# Root Mean squared error\n",
    "print(f'RMSE is {np.sqrt(mean_squared_error(y_test,predictions))}')"
   ]
  },
  {
   "cell_type": "markdown",
   "id": "1caca7f8",
   "metadata": {},
   "source": [
    "### XGBoost"
   ]
  },
  {
   "cell_type": "markdown",
   "id": "265bea79",
   "metadata": {},
   "source": [
    "#### RandomizedCV on AdaBoostRegressor"
   ]
  },
  {
   "cell_type": "code",
   "execution_count": 357,
   "id": "8ddf4491",
   "metadata": {},
   "outputs": [
    {
     "name": "stdout",
     "output_type": "stream",
     "text": [
      "Fitting 5 folds for each of 100 candidates, totalling 500 fits\n",
      "{'min_child_weight': 3, 'max_depth': 3, 'learning_rate': 0.15, 'gamma': 0.1, 'colsample_bytree': 0.4}\n"
     ]
    }
   ],
   "source": [
    "xgb_para_grid={\n",
    "    'min_child_weight':[1,2,3],\n",
    "    'max_depth':[3,5,7],\n",
    "    'learning_rate':[0.05,0.10,0.15],\n",
    "    'gamma':[0.0,0.1,0.02],\n",
    "    'colsample_bytree':[0.3,0.4]\n",
    "}\n",
    "\n",
    "XGB = RandomizedSearchCV(estimator=XGBRegressor(),param_distributions=xgb_para_grid,n_iter=100,\n",
    "                        verbose=2,random_state=100,n_jobs=-1)\n",
    "XGB.fit(X_train,y_train)\n",
    "\n",
    "print(XGB.best_params_)"
   ]
  },
  {
   "cell_type": "markdown",
   "id": "2bc6c7d3",
   "metadata": {},
   "source": [
    "#### Fitting best parameters in XGBoost"
   ]
  },
  {
   "cell_type": "code",
   "execution_count": 358,
   "id": "d56ff237",
   "metadata": {},
   "outputs": [
    {
     "name": "stdout",
     "output_type": "stream",
     "text": [
      "R2 score is :,0.9566319780115735\n",
      "****************************************************************************************************\n",
      "MSE is 214.74677310686445\n",
      "****************************************************************************************************\n",
      "RMSE is 14.65424078916627\n"
     ]
    }
   ],
   "source": [
    "XGB = XGBRegressor(min_child_weight=3,max_depth=3,learning_rate=0.15,gamma=0.1,colsample_bytree=0.4)\n",
    "\n",
    "XGB.fit(X_train,y_train)\n",
    "\n",
    "predictions = XGB.predict(X_test)\n",
    "\n",
    "print(f'R2 score is :,{r2_score(y_test,predictions)}')\n",
    "print('*'*100)\n",
    "# Mean squared error\n",
    "print(f'MSE is {mean_squared_error(y_test,predictions)}')\n",
    "print('*'*100)\n",
    "# Root Mean squared error\n",
    "print(f'RMSE is {np.sqrt(mean_squared_error(y_test,predictions))}')"
   ]
  },
  {
   "cell_type": "markdown",
   "id": "2d659b98",
   "metadata": {},
   "source": [
    "# Checking predictions"
   ]
  },
  {
   "cell_type": "code",
   "execution_count": 393,
   "id": "84dd9b45",
   "metadata": {},
   "outputs": [
    {
     "name": "stdout",
     "output_type": "stream",
     "text": [
      "[594.58304169]\n"
     ]
    },
    {
     "name": "stderr",
     "output_type": "stream",
     "text": [
      "C:\\ProgramData\\Anaconda3\\lib\\site-packages\\sklearn\\base.py:450: UserWarning: X does not have valid feature names, but LinearRegression was fitted with feature names\n",
      "  warnings.warn(\n"
     ]
    }
   ],
   "source": [
    "input_data = (34.497268,12.655651,39.577668,4.082621)\n",
    "\n",
    "arr = np.asarray(input_data)\n",
    "\n",
    "reshaped_arr = arr.reshape(1,-1)\n",
    "\n",
    "prediction = linear_regressor.predict(reshaped_arr)\n",
    "\n",
    "print(prediction)"
   ]
  },
  {
   "cell_type": "markdown",
   "id": "c1100d36",
   "metadata": {},
   "source": [
    "#### Best Model is Linear regression"
   ]
  },
  {
   "cell_type": "markdown",
   "id": "8623f5da",
   "metadata": {},
   "source": [
    "#### Coefficient values"
   ]
  },
  {
   "cell_type": "code",
   "execution_count": 394,
   "id": "1b9d9dfd",
   "metadata": {},
   "outputs": [
    {
     "data": {
      "text/plain": [
       "array([25.5962591 , 38.78534598,  0.31038593, 61.89682859])"
      ]
     },
     "execution_count": 394,
     "metadata": {},
     "output_type": "execute_result"
    }
   ],
   "source": [
    "linear_regressor.coef_"
   ]
  },
  {
   "cell_type": "markdown",
   "id": "18df75ef",
   "metadata": {},
   "source": [
    "## Conclusion"
   ]
  },
  {
   "cell_type": "markdown",
   "id": "0589b5ff",
   "metadata": {},
   "source": [
    "Holding all other features fixed, a 1 unit increase in Avg. Session Length is associated with an increase of 25.38 total dollars spent.\n",
    "\n",
    "Holding all other features fixed, a 1 unit increase in Time on App is associated with an increase of 38.52 total dollars spent.\n",
    "\n",
    "Holding all other features fixed, a 1 unit increase in Time on Website is associated with an increase of 0.31 total dollars spent.\n",
    "\n",
    "Holding all other features fixed, a 1 unit increase in Length of Membership is associated with an increase of 61.29 total dollars spent."
   ]
  }
 ],
 "metadata": {
  "kernelspec": {
   "display_name": "Python 3 (ipykernel)",
   "language": "python",
   "name": "python3"
  },
  "language_info": {
   "codemirror_mode": {
    "name": "ipython",
    "version": 3
   },
   "file_extension": ".py",
   "mimetype": "text/x-python",
   "name": "python",
   "nbconvert_exporter": "python",
   "pygments_lexer": "ipython3",
   "version": "3.9.7"
  }
 },
 "nbformat": 4,
 "nbformat_minor": 5
}
